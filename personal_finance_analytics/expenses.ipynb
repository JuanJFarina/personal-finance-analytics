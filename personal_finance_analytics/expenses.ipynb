{
 "cells": [
  {
   "cell_type": "code",
   "execution_count": null,
   "id": "d36c5464",
   "metadata": {},
   "outputs": [],
   "source": [
    "import os\n",
    "import pandas as pd\n",
    "import matplotlib.pyplot as plt\n",
    "SPREADSHEET_ID = os.getenv(\"EXPENSES_SPREADHSEET_ID\")"
   ]
  },
  {
   "cell_type": "code",
   "execution_count": null,
   "id": "25767859",
   "metadata": {},
   "outputs": [],
   "source": [
    "months = [\"enero\", \"febrero\", \"marzo\", \"abril\", \"mayo\", \"junio\", \"julio\"]\n",
    "month_urls = {month: f\"https://docs.google.com/spreadsheets/d/{SPREADSHEET_ID}/gviz/tq?tqx=out:csv&sheet={month}\" for month in months}\n",
    "\n",
    "grupos = {\n",
    "    \"fijos\": [\"alquileres\", \"servicios_esenciales\", \"servicios_no_esenciales\"],\n",
    "    \"corrientes\": [\"hogar\", \"transporte\", \"salidas\"],\n",
    "    \"irregulares\": [\"shopping\", \"otros\"],\n",
    "}"
   ]
  },
  {
   "cell_type": "code",
   "execution_count": null,
   "id": "04893cbb",
   "metadata": {},
   "outputs": [],
   "source": [
    "totales_mensuales = []\n",
    "\n",
    "for mes in months:\n",
    "    url = month_urls[mes]\n",
    "    df = pd.read_csv(\n",
    "        url, usecols=grupos[\"fijos\"] + grupos[\"corrientes\"] + grupos[\"irregulares\"]\n",
    "    )\n",
    "    fila_total = df.iloc[-1]\n",
    "    fila_limpia = {\n",
    "        cat: pd.to_numeric(\n",
    "            fila_total[cat].replace(\"$\", \"\").replace(\",\", \"\").strip(), errors=\"coerce\"\n",
    "        )\n",
    "        for cat in grupos[\"fijos\"] + grupos[\"corrientes\"] + grupos[\"irregulares\"]\n",
    "    }\n",
    "    fila_limpia[\"mes\"] = mes\n",
    "    totales_mensuales.append(fila_limpia)\n",
    "df_totales = pd.DataFrame(totales_mensuales).set_index(\"mes\")\n",
    "df_totales.tail(12)"
   ]
  },
  {
   "cell_type": "code",
   "execution_count": null,
   "id": "3ac01473",
   "metadata": {},
   "outputs": [],
   "source": [
    "def plot_grupo(grupo, nombre):\n",
    "    df_grupo = df_totales[grupo]\n",
    "    df_grupo.plot(marker=\"o\", figsize=(10, 5))\n",
    "    plt.title(f\"Gastos mensuales: {nombre}\")\n",
    "    plt.ylabel(\"Monto en ARS\")\n",
    "    plt.xlabel(\"Mes\")\n",
    "    plt.xticks(rotation=45)\n",
    "    plt.grid(True)\n",
    "    plt.tight_layout()\n",
    "    plt.show()\n",
    "\n",
    "\n",
    "plot_grupo(grupos[\"fijos\"], \"Gastos Fijos\")\n",
    "plot_grupo(grupos[\"corrientes\"], \"Gastos Corrientes\")\n",
    "plot_grupo(grupos[\"irregulares\"], \"Gastos Irregulares\")\n",
    "\n",
    "trimestres = {month: f\"Q{(i // 3) + 1}\" for i, month in enumerate(months)}\n",
    "\n",
    "df_totales[\"trimestre\"] = df_totales.index.map(trimestres)\n",
    "\n",
    "promedios_trimestrales = {}\n",
    "for nombre_grupo, categorias in grupos.items():\n",
    "    df_prom = df_totales.groupby(\"trimestre\")[categorias].mean()\n",
    "    promedios_trimestrales[nombre_grupo] = df_prom\n",
    "\n",
    "for nombre_grupo, df_prom in promedios_trimestrales.items():\n",
    "    df_prom.plot(kind=\"bar\", stacked=True, figsize=(8, 5))\n",
    "    plt.title(f\"Promedio Trimestral - Grupo {nombre_grupo.capitalize()}\")\n",
    "    plt.ylabel(\"Monto promedio por categoría (ARS)\")\n",
    "    plt.xlabel(\"Trimestre\")\n",
    "    plt.grid(True)\n",
    "    plt.tight_layout()\n",
    "    plt.show()\n"
   ]
  },
  {
   "cell_type": "code",
   "execution_count": null,
   "id": "3078f59c",
   "metadata": {},
   "outputs": [],
   "source": [
    "datos_personales = pd.read_csv(\"../data/sueldos.csv\")\n",
    "datos_personales_del_anio = datos_personales.iloc[-len(months):]\n",
    "total_anual = df_totales.sum(numeric_only=True).sum()\n",
    "ingreso_anual = datos_personales_del_anio[\"sueldo_neto_ars\"].sum()\n",
    "ahorro_uso_discrecional = ingreso_anual - total_anual\n",
    "porcentaje_gastado = total_anual / ingreso_anual * 100\n",
    "\n",
    "print(f\"Gasto total del año: ${total_anual:,.0f} ARS\")\n",
    "print(f\"Ingreso neto del año: ${ingreso_anual:,.0f} ARS\")\n",
    "print(f\"Diferencia: ${ahorro_uso_discrecional:,.0f} ARS\")\n",
    "print(f\"Porcentaje del ingreso gastado: {porcentaje_gastado:.1f}%\")"
   ]
  }
 ],
 "metadata": {
  "kernelspec": {
   "display_name": ".venv",
   "language": "python",
   "name": "python3"
  },
  "language_info": {
   "codemirror_mode": {
    "name": "ipython",
    "version": 3
   },
   "file_extension": ".py",
   "mimetype": "text/x-python",
   "name": "python",
   "nbconvert_exporter": "python",
   "pygments_lexer": "ipython3",
   "version": "3.11.9"
  }
 },
 "nbformat": 4,
 "nbformat_minor": 5
}
