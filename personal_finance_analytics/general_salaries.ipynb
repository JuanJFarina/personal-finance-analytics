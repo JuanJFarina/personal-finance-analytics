{
 "cells": [
  {
   "cell_type": "code",
   "execution_count": null,
   "id": "421f225d",
   "metadata": {},
   "outputs": [],
   "source": [
    "import pandas as pd\n",
    "import matplotlib.pyplot as plt\n",
    "from datetime import datetime\n",
    "from utils import (\n",
    "    obtener_escalar_de_inflacion,\n",
    "    show_plot,\n",
    ")"
   ]
  },
  {
   "cell_type": "code",
   "execution_count": null,
   "id": "3b061135",
   "metadata": {},
   "outputs": [],
   "source": [
    "def set_bias(last_check: datetime) -> int:\n",
    "    current_date = datetime.now()\n",
    "    years_diff = current_date.year - last_check.year\n",
    "    months_diff = current_date.month - last_check.month\n",
    "    return years_diff * 12 + months_diff"
   ]
  },
  {
   "cell_type": "code",
   "execution_count": null,
   "id": "6a9bae57",
   "metadata": {},
   "outputs": [],
   "source": [
    "last_check = datetime(\n",
    "    2025, 2, 1\n",
    ")  # ACTUALIZAR CUANDO SE AGREGUEN DATOS FUTUROS A ESTA FECHA Y REVISAR TODOS LOS DATOS\n",
    "MONTHS_TO_UPDATE = set_bias(last_check)\n",
    "MONTHS_TO_UPDATE"
   ]
  },
  {
   "cell_type": "code",
   "execution_count": null,
   "id": "459bf3c5",
   "metadata": {},
   "outputs": [],
   "source": [
    "datos_personales = pd.read_csv(\"../data/sueldos.csv\")"
   ]
  },
  {
   "cell_type": "code",
   "execution_count": null,
   "id": "e4503a6c",
   "metadata": {},
   "outputs": [],
   "source": [
    "datos_personales[\"sueldo_bruto_usd_oficial\"] = (\n",
    "    datos_personales[\"sueldo_bruto_ars\"] / datos_personales[\"dolar_oficial\"]\n",
    ")\n",
    "datos_personales[\"sueldo_bruto_usd_blue\"] = (\n",
    "    datos_personales[\"sueldo_bruto_ars\"] / datos_personales[\"dolar_blue\"]\n",
    ")\n",
    "datos_personales[\"sueldo_neto_usd_oficial\"] = (\n",
    "    datos_personales[\"sueldo_neto_ars\"] / datos_personales[\"dolar_oficial\"]\n",
    ")\n",
    "datos_personales[\"sueldo_neto_usd_blue\"] = (\n",
    "    datos_personales[\"sueldo_neto_ars\"] / datos_personales[\"dolar_blue\"]\n",
    ")\n",
    "datos_personales.tail()"
   ]
  },
  {
   "cell_type": "code",
   "execution_count": null,
   "id": "3c8b2fd0",
   "metadata": {},
   "outputs": [],
   "source": [
    "rem_bruta_sec_priv = pd.read_csv(\n",
    "    \"https://infra.datos.gob.ar/catalog/sspm/dataset/153/distribution/153.1/download/remuneracion-bruta-asalariados-registrados-sector-privado-mensual-pesos-base-2009.csv\"\n",
    ")\n",
    "rem_bruta_sec_priv.tail(3)"
   ]
  },
  {
   "cell_type": "code",
   "execution_count": null,
   "id": "e7f0677b",
   "metadata": {},
   "outputs": [],
   "source": [
    "datos_arg: list[dict[str, any]] = []\n",
    "datos_arg.append(\n",
    "    {\n",
    "        \"fecha\": rem_bruta_sec_priv.iloc[-1][\"indice_tiempo\"],\n",
    "        \"valor\": float(\n",
    "            rem_bruta_sec_priv.iloc[-1][\"asalariados_priv_remuneracion_mediana\"]\n",
    "        )\n",
    "        * obtener_escalar_de_inflacion(MONTHS_TO_UPDATE-1),\n",
    "        \"label\": \"Bruto Mediana\",\n",
    "    }\n",
    ")\n",
    "datos_arg.append(\n",
    "    {\n",
    "        \"fecha\": rem_bruta_sec_priv.iloc[-1][\"indice_tiempo\"],\n",
    "        \"valor\": float(\n",
    "            rem_bruta_sec_priv.iloc[-1][\"asalariados_priv_remuneracion_promedio\"]\n",
    "        )\n",
    "        * obtener_escalar_de_inflacion(MONTHS_TO_UPDATE-1),\n",
    "        \"label\": \"Bruto Promedio\",\n",
    "    }\n",
    ")"
   ]
  },
  {
   "cell_type": "code",
   "execution_count": null,
   "id": "8e2a081e",
   "metadata": {},
   "outputs": [],
   "source": [
    "distribucion_personal_ingreso_por_deciles_trismestrales = pd.read_csv(\n",
    "    \"https://infra.datos.gob.ar/catalog/sspm/dataset/301/distribution/301.1/download/distribucion-personal-ingreso-por-deciles-trismestrales.csv\"\n",
    ")\n",
    "distribucion_personal_ingreso_por_deciles_trismestrales.tail(3)"
   ]
  },
  {
   "cell_type": "code",
   "execution_count": null,
   "id": "7329748f",
   "metadata": {},
   "outputs": [],
   "source": [
    "res = distribucion_personal_ingreso_por_deciles_trismestrales.iloc[-1][\n",
    "    \"decil_8_oip\":\"decil_10_oip\"\n",
    "]\n",
    "datos_arg.extend(\n",
    "    [\n",
    "        {\n",
    "            \"fecha\": distribucion_personal_ingreso_por_deciles_trismestrales[\n",
    "                \"indice_tiempo\"\n",
    "            ].iloc[-1],\n",
    "            \"valor\": float(value) * obtener_escalar_de_inflacion(MONTHS_TO_UPDATE+4),\n",
    "            \"label\": index,\n",
    "        }\n",
    "        for index, value in res.items()\n",
    "    ]\n",
    ")"
   ]
  },
  {
   "cell_type": "code",
   "execution_count": null,
   "id": "e674dd02",
   "metadata": {},
   "outputs": [],
   "source": [
    "remuneracion_imponible_promedio_trabajadores_estables_ripte = pd.read_csv(\n",
    "    \"https://infra.datos.gob.ar/catalog/sspm/dataset/158/distribution/158.1/download/remuneracion-imponible-promedio-trabajadores-estables-ripte-total-pais-pesos-serie-mensual.csv\"\n",
    ")\n",
    "remuneracion_imponible_promedio_trabajadores_estables_ripte.tail(3)"
   ]
  },
  {
   "cell_type": "code",
   "execution_count": null,
   "id": "905ff35f",
   "metadata": {},
   "outputs": [],
   "source": [
    "datos_arg.append(\n",
    "    {\n",
    "        \"fecha\": remuneracion_imponible_promedio_trabajadores_estables_ripte.iloc[-1][\n",
    "            \"indice_tiempo\"\n",
    "        ],\n",
    "        \"valor\": float(\n",
    "            remuneracion_imponible_promedio_trabajadores_estables_ripte.iloc[-1][\n",
    "                \"ripte\"\n",
    "            ]\n",
    "        )\n",
    "        * obtener_escalar_de_inflacion(MONTHS_TO_UPDATE-2),\n",
    "        \"label\": \"RIPTE\",\n",
    "    }\n",
    ")"
   ]
  },
  {
   "cell_type": "code",
   "execution_count": null,
   "id": "2028042a",
   "metadata": {},
   "outputs": [],
   "source": [
    "datos_arg.append(\n",
    "    {\n",
    "        \"fecha\": str(datos_personales[\"año\"].iloc[-1])\n",
    "        + \"-\"\n",
    "        + str(datos_personales[\"mes\"].iloc[-1])\n",
    "        + \"-01\",\n",
    "        \"valor\": float(datos_personales[\"sueldo_bruto_ars\"].iloc[-1]),\n",
    "        \"label\": \"Mi Bruto\",\n",
    "    }\n",
    ")\n",
    "datos_arg.append(\n",
    "    {\n",
    "        \"fecha\": str(datos_personales[\"año\"].iloc[-1])\n",
    "        + \"-\"\n",
    "        + str(datos_personales[\"mes\"].iloc[-1])\n",
    "        + \"-01\",\n",
    "        \"valor\": float(datos_personales[\"sueldo_neto_ars\"].iloc[-1]),\n",
    "        \"label\": \"Mi Neto\",\n",
    "    }\n",
    ")\n",
    "datos_arg.sort(key=lambda x: x[\"valor\"])"
   ]
  },
  {
   "cell_type": "code",
   "execution_count": null,
   "id": "824531f2",
   "metadata": {},
   "outputs": [],
   "source": [
    "fig, ax = plt.subplots(figsize=(15, 6))\n",
    "\n",
    "bars = ax.bar(\n",
    "    [dato[\"label\"] for dato in datos_arg],\n",
    "    [dato[\"valor\"] for dato in datos_arg],\n",
    "    width=0.9,\n",
    ")\n",
    "\n",
    "for bar in bars:\n",
    "    height = bar.get_height()\n",
    "    ax.text(\n",
    "        bar.get_x() + bar.get_width() / 2,\n",
    "        height,\n",
    "        f\"${height:,.0f}\",\n",
    "        ha=\"center\",\n",
    "        va=\"bottom\",\n",
    "    )\n",
    "\n",
    "show_plot(\n",
    "    fig,\n",
    "    \"Categorías\",\n",
    "    \"Sueldo en Millones\",\n",
    "    \"Comparación del Sueldo Actual con Datos del Gobierno\",\n",
    ")"
   ]
  }
 ],
 "metadata": {
  "kernelspec": {
   "display_name": ".venv",
   "language": "python",
   "name": "python3"
  },
  "language_info": {
   "codemirror_mode": {
    "name": "ipython",
    "version": 3
   },
   "file_extension": ".py",
   "mimetype": "text/x-python",
   "name": "python",
   "nbconvert_exporter": "python",
   "pygments_lexer": "ipython3",
   "version": "3.11.9"
  }
 },
 "nbformat": 4,
 "nbformat_minor": 5
}
